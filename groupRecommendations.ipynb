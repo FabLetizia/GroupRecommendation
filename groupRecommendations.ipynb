{
 "cells": [
  {
   "cell_type": "markdown",
   "metadata": {},
   "source": [
    "(a) For producing group recommendation, we will use the user-based collaborative \n",
    "filtering approach as this implemented in Assignment 1. Specifically, for producing group \n",
    "recommendations, we will first compute the movies recommendations for each user in \n",
    "the group, and then we will aggregate the lists of the individual users, so as to produce a \n",
    "single list of movies for the group.  "
   ]
  },
  {
   "cell_type": "code",
   "execution_count": 6,
   "metadata": {},
   "outputs": [],
   "source": [
    "import pandas as pd\n",
    "import numpy as np\n",
    "import csv"
   ]
  },
  {
   "cell_type": "code",
   "execution_count": 7,
   "metadata": {},
   "outputs": [
    {
     "name": "stdout",
     "output_type": "stream",
     "text": [
      "Total number of rows: 100836\n",
      "\n",
      "First five rows:\n",
      "   userId  movieId  rating  timestamp\n",
      "0       1        1     4.0  964982703\n",
      "1       1        3     4.0  964981247\n",
      "2       1        6     4.0  964982224\n",
      "3       1       47     5.0  964983815\n",
      "4       1       50     5.0  964982931\n"
     ]
    }
   ],
   "source": [
    "dataset_links = pd.read_csv('ml-latest-small/links.csv')\n",
    "dataset_movies = pd.read_csv('ml-latest-small/movies.csv')\n",
    "dataset_ratings = pd.read_csv('ml-latest-small/ratings.csv')\n",
    "dataset_tags = pd.read_csv('ml-latest-small/tags.csv')\n",
    "\n",
    "rows_num = len(dataset_ratings)\n",
    "print(\"Total number of rows:\", rows_num)\n",
    "\n",
    "first5rows = dataset_ratings.head(5)\n",
    "print(\"\\nFirst five rows:\")\n",
    "print(first5rows)"
   ]
  },
  {
   "cell_type": "code",
   "execution_count": 8,
   "metadata": {},
   "outputs": [],
   "source": [
    "''' a function to save the data present in the ratings.csv file in a dictionary of dictionaries. \n",
    "In the outermost dictionary the keys are the user ids, and each of them is associated\n",
    "with a dictionary in which the keys are the movie ids and the values are the score \n",
    "assigned by that user. '''\n",
    "def csv_to_dict(filename):\n",
    "    users_ratings = {}\n",
    "    with open(filename, newline='') as file:\n",
    "        reader = csv.reader(file)\n",
    "        next(reader)  # to skip the heading\n",
    "        for row in reader:\n",
    "            userId, movieId, rating, _ = row\n",
    "            userId = int(userId)\n",
    "            movieId = int(movieId)\n",
    "            rating = float(rating)\n",
    "            if userId not in users_ratings:\n",
    "                users_ratings[userId] = {}\n",
    "            users_ratings[userId][movieId] = rating\n",
    "    return users_ratings"
   ]
  },
  {
   "cell_type": "code",
   "execution_count": 9,
   "metadata": {},
   "outputs": [],
   "source": [
    "# a function to calculate the mean of values in a dict\n",
    "def mean(dict): \n",
    "    values = list(dict.values())\n",
    "    values_sum = sum(values)\n",
    "    values_num = len(values)\n",
    "    mean = values_sum / values_num\n",
    "    return mean"
   ]
  },
  {
   "cell_type": "code",
   "execution_count": 10,
   "metadata": {},
   "outputs": [],
   "source": [
    "# Pearson Correlation function\n",
    "def simPearson(user1_id, user2_id, filename = 'ml-latest-small/ratings.csv'):\n",
    "\n",
    "    users_ratings = csv_to_dict(filename)\n",
    "    user1_ratings = users_ratings[user1_id]\n",
    "    user2_ratings = users_ratings[user2_id]\n",
    "\n",
    "    # mean of ratings of the two users (ra,rb)\n",
    "    mean_user1 = mean(user1_ratings)\n",
    "    mean_user2 = mean(user2_ratings)\n",
    "\n",
    "    # estract the common keys (common movies)\n",
    "    common_movies = set(user1_ratings.keys()) & set(user2_ratings.keys())\n",
    "    \n",
    "    if not common_movies:\n",
    "        return 0\n",
    "    \n",
    "    # calculate the differences from the averages for each user\n",
    "    diff_user1 = np.array([user1_ratings[movie] - mean_user1 for movie in common_movies])\n",
    "    diff_user2 = np.array([user2_ratings[movie] - mean_user2 for movie in common_movies])\n",
    "    \n",
    "    # numerator\n",
    "    numerator = np.sum(diff_user1 * diff_user2)\n",
    "    \n",
    "    # calculate the standard deviations of the ratings for each user\n",
    "    std_dev_user1 = np.sqrt(np.sum(diff_user1**2))\n",
    "    std_dev_user2 = np.sqrt(np.sum(diff_user2**2))\n",
    "    \n",
    "    # denominator\n",
    "    denominator = std_dev_user1 * std_dev_user2\n",
    "    \n",
    "    if denominator == 0:\n",
    "        return 0\n",
    "    \n",
    "    # Pearson similarity\n",
    "    similarity = numerator / denominator\n",
    "    \n",
    "    return similarity"
   ]
  },
  {
   "cell_type": "code",
   "execution_count": 11,
   "metadata": {},
   "outputs": [],
   "source": [
    "''' This function creates a matrix with rows the users and columns the movies \n",
    "and the values in the cells are the ratings '''\n",
    "def createMatrix():\n",
    "    # create a list (all_movie_ids) in which I insert (by reading the movies.csv file) all the ids of all the movies\n",
    "    all_movie_ids = []\n",
    "    with open('ml-latest-small/movies.csv', newline='') as csvfile:\n",
    "        csvreader = csv.reader(csvfile)\n",
    "        next(csvreader)\n",
    "        for row in csvreader:\n",
    "            all_movie_ids.append(int(row[0]))\n",
    "    # store all the ratings from the ratings.csv file in the dataframe (ratings).\n",
    "    ratings = pd.read_csv('ml-latest-small/ratings.csv')\n",
    "\n",
    "    # create a table from the data in the ratings DataFrame. \n",
    "    # The data is organized so that rows represent users (userId), columns represent movies (movieId), and values ​​are ratings.\n",
    "    user_movie_ratings_matrix = pd.pivot_table(ratings, values='rating', index='userId', columns='movieId')\n",
    "    user_movie_ratings_matrix = user_movie_ratings_matrix.reindex(columns=all_movie_ids)\n",
    "    return user_movie_ratings_matrix"
   ]
  },
  {
   "cell_type": "code",
   "execution_count": 12,
   "metadata": {},
   "outputs": [],
   "source": [
    "''' Starting from a user x, this function creates a dictionary in which the keys are the ids\n",
    " of the other users and the values are the similarity (exploiting Pearson similarity) between \n",
    " user x and the key user '''\n",
    "def compute_user_similarities(user_id):\n",
    "    # id users: from 1 to 610\n",
    "    user_list = list(range(1, 611, 1))\n",
    "    user_list.remove(user_id)\n",
    "    user_similarities = {}\n",
    "    # calculate the similarity and adds it to the 'user_similarities' dictionary\n",
    "    for other_user in user_list:\n",
    "        if other_user != user_id:\n",
    "            similarity = simPearson(user_id, other_user)\n",
    "            user_similarities[other_user] = similarity\n",
    "    return user_similarities"
   ]
  },
  {
   "cell_type": "code",
   "execution_count": 13,
   "metadata": {},
   "outputs": [],
   "source": [
    "''' this function has the same purpose as the 'prediction' function but is faster\n",
    " because it uses the two data structures: ratings matrix and similarity dictionary '''\n",
    "def fastPrediction(user_id, movie, user_movie_ratings_matrix, user_similarity_dict):\n",
    "    # if the movie has already been rated by the user, the prediction is not made and the score assigned to it is returned\n",
    "    if not np.isnan(user_movie_ratings_matrix.at[user_id, movie]):\n",
    "        return user_movie_ratings_matrix.at[user_id, movie]\n",
    "    \n",
    "    num, den = 0.0, 0.0\n",
    "    # mean of ratings of user target\n",
    "    rmean_user1 = user_movie_ratings_matrix.loc[user_id].mean()\n",
    "    \n",
    "    #select only the users who rated the movie\n",
    "    users_who_rated_movie = user_movie_ratings_matrix[movie].dropna().index.unique()\n",
    "\n",
    "    #calcolate the prediction using ratings matrix and similarity dictionary\n",
    "    for u in users_who_rated_movie:\n",
    "        rmean_u = user_movie_ratings_matrix.loc[u].mean()\n",
    "        r_up = user_movie_ratings_matrix.at[u, movie]\n",
    "        similarity = user_similarity_dict[u]\n",
    "        num += similarity * (r_up - rmean_u)\n",
    "        den += abs(similarity)\n",
    "    if den == 0.0:\n",
    "        pred = rmean_user1\n",
    "    else:\n",
    "        pred = rmean_user1 + (num / den)\n",
    "    return pred"
   ]
  },
  {
   "cell_type": "code",
   "execution_count": 37,
   "metadata": {},
   "outputs": [],
   "source": [
    "# function that takes a user and a list of movies as input and returns the preditions list about these movies\n",
    "def getUnratedMoviePredictions(user_id, unrated_movies, ratings_matrix, filename = 'ml-latest-small/ratings.csv'):\n",
    "    predictions_list = []\n",
    "    # build a dictionary of user similarities with the input user.\n",
    "    similarity_dict = compute_user_similarities(user_id)\n",
    "    # for each unrated movie calculate the prediction and add it to the predictions_list: a list of tuples (movie_id, prediction for this movie)\n",
    "    for movie_id in unrated_movies:\n",
    "        prediction_value = fastPrediction(user_id, movie_id, ratings_matrix, similarity_dict)\n",
    "        predictions_list.append((movie_id, prediction_value))\n",
    "        \n",
    "    return predictions_list"
   ]
  },
  {
   "cell_type": "code",
   "execution_count": 28,
   "metadata": {},
   "outputs": [],
   "source": [
    "# a function that, given a user id, returns all the movies they haven't rated.\n",
    "def getUnratedMovies(user_id, filename = 'ml-latest-small/ratings.csv'):\n",
    "    users_ratings = csv_to_dict(filename)\n",
    "    # populate the 'unrated_movie' list with the ids of the movies to which the user has not assigned a rating\n",
    "    unrated_movies = []\n",
    "    with open('ml-latest-small/movies.csv', newline='') as csvfile:\n",
    "        csvreader = csv.reader(csvfile)\n",
    "        next(csvreader)\n",
    "        for row in csvreader:\n",
    "            unrated_movies.append(int(row[0]))\n",
    "    unrated_movies = [x for x in unrated_movies if x not in users_ratings[user_id]]\n",
    "    return unrated_movies"
   ]
  },
  {
   "cell_type": "code",
   "execution_count": 29,
   "metadata": {},
   "outputs": [],
   "source": [
    "# a function that, given a list of users as input, returns the union of unrated movies for each user.\n",
    "def getUnionUnratedMovies(users):\n",
    "    union_unrated_movies = set()\n",
    "    # for each user call the function getUnratedMovies, which returns the movies not rated by that user\n",
    "    for user in users:\n",
    "        unrated_movies = getUnratedMovies(user)\n",
    "        #and update the list to store all of them\n",
    "        union_unrated_movies.update(unrated_movies)\n",
    "    return list(union_unrated_movies)"
   ]
  },
  {
   "cell_type": "markdown",
   "metadata": {},
   "source": [
    "(a1) Average Aggregation"
   ]
  },
  {
   "cell_type": "code",
   "execution_count": 50,
   "metadata": {},
   "outputs": [],
   "source": [
    "# function that takes as input a set of users and an integer k, and returns the top k movies suggested by the system for the group of users\n",
    "def meanTopKGroupPrediction(users, k, filename = 'ml-latest-small/ratings.csv'):\n",
    "    # union of unrated movies\n",
    "    unrated_movies = getUnionUnratedMovies(users)\n",
    "    #ratings matrix\n",
    "    ratings_matrix = createMatrix()\n",
    "    \n",
    "    # for each user calculate the predictions and store them\n",
    "    predictions_lists = []\n",
    "    for user_id in users:\n",
    "        print(\"Generating predictions for user \", user_id)\n",
    "        # get the predictions for the unrated movies for the current user\n",
    "        predictions = getUnratedMoviePredictions(user_id, unrated_movies, ratings_matrix)\n",
    "        # add the predictions for the current user to the general list\n",
    "        predictions_lists.append(predictions)\n",
    "    \n",
    "    # list to store the averages of ratings for each movie\n",
    "    average_predictions = []\n",
    "    for i in range(len(predictions_lists[0])):\n",
    "        # calculate the average ratings for each movie\n",
    "        average_value = sum(prediction[i][1] for prediction in predictions_lists) / len(predictions_lists)\n",
    "\n",
    "        # build the list of tuples (movie_id, average rating)\n",
    "        average_predictions.append((predictions_lists[0][i][0], average_value))\n",
    "\n",
    "    # sort the list based on the average rating (in descending order)\n",
    "    sorted_predictions = sorted(average_predictions, key=lambda x: x[1], reverse=True)\n",
    "    \n",
    "    # take only the first k elements from the sorted list\n",
    "    top_k_predictions = sorted_predictions[:k]\n",
    "    \n",
    "    return top_k_predictions"
   ]
  },
  {
   "cell_type": "code",
   "execution_count": 51,
   "metadata": {},
   "outputs": [
    {
     "name": "stdout",
     "output_type": "stream",
     "text": [
      "Generating predictions for user  414\n",
      "Generating predictions for user  474\n"
     ]
    }
   ],
   "source": [
    "users = [414,474,599]\n",
    "print(meanTopKGroupPrediction(users,10))"
   ]
  },
  {
   "cell_type": "markdown",
   "metadata": {},
   "source": [
    "(a2) Least Misery Aggregation"
   ]
  },
  {
   "cell_type": "code",
   "execution_count": 42,
   "metadata": {},
   "outputs": [],
   "source": [
    "# function that takes as input a set of users and an integer k, and returns the top k movies suggested by the system for the group of users\n",
    "def LMTopKGroupPrediction(users, k, filename = 'ml-latest-small/ratings.csv'):\n",
    "    # union of unrated movies\n",
    "    unrated_movies = getUnionUnratedMovies(users)\n",
    "    #ratings matrix\n",
    "    ratings_matrix = createMatrix()\n",
    "    \n",
    "    # for each user calculate the predictions and store them\n",
    "    predictions_lists = []\n",
    "    for user_id in users:\n",
    "        print(\"Generating predictions for user \", user_id)\n",
    "        # get the predictions for the unrated movies for the current user\n",
    "        predictions = getUnratedMoviePredictions(user_id, unrated_movies, ratings_matrix)\n",
    "        # add the predictions for the current user to the general list\n",
    "        predictions_lists.append(predictions)\n",
    "    \n",
    "    # list to store the minimum of ratings for each movie\n",
    "    lm_predictions = []\n",
    "    for i in range(len(predictions_lists[0])):\n",
    "        # calculate the minimum ratings for each movie\n",
    "        min_value = min(prediction[i][1] for prediction in predictions_lists)\n",
    "\n",
    "        # build the list of tuples (movie_id, minimum rating)\n",
    "        lm_predictions.append((predictions_lists[0][i][0], min_value))\n",
    "\n",
    "    # sort the list based on the minimum rating (in descending order)\n",
    "    sorted_predictions = sorted(lm_predictions, key=lambda x: x[1], reverse=True)\n",
    "    \n",
    "    # take only the first k elements from the sorted list\n",
    "    top_k_predictions = sorted_predictions[:k]\n",
    "    \n",
    "    return top_k_predictions"
   ]
  },
  {
   "cell_type": "code",
   "execution_count": 43,
   "metadata": {},
   "outputs": [
    {
     "name": "stdout",
     "output_type": "stream",
     "text": [
      "Generating predictions for user  414\n",
      "Generating predictions for user  474\n",
      "Generating predictions for user  599\n",
      "[(5105, 6.066619005872367), (6967, 6.066619005872367), (7114, 6.066619005872367), (7742, 6.066619005872367), (3604, 5.6150230133280985), (97024, 5.420621468926553), (138186, 5.402772387984922), (107013, 5.402772387984922), (173307, 5.402772387984922), (86068, 5.402772387984922)]\n"
     ]
    }
   ],
   "source": [
    "users = [414,474,599]\n",
    "print(LMTopKGroupPrediction(users,10))"
   ]
  },
  {
   "cell_type": "markdown",
   "metadata": {},
   "source": [
    "(b) The methods employed in part (a) of Assignment 2, do not consider any disagreements between the users in the group. In part (b) of Assignment 2, define a way for counting the disagreements between the users in a group, and propose a method that takes disagreements into account when computing suggestions for the group. Implement your method and explain why it is useful when producing group recommendations. Use again the group of 3 users, and for this group, show the top-10 recommendations, i.e., the 10 movies with the highest\n",
    "prediction scores that your method suggests. Use the MovieLens 100K rating dataset."
   ]
  },
  {
   "cell_type": "code",
   "execution_count": 47,
   "metadata": {},
   "outputs": [],
   "source": [
    "# function that takes as input a set of users and an integer k, and returns the top k movies suggested by the system for the group of users\n",
    "def disagreementsTopKGroupPrediction(users, k):\n",
    "    # Ottieni l'insieme di tutti i film non valutati per ciascun utente nel gruppo\n",
    "    unrated_movies = getUnionUnratedMovies(users)\n",
    "\n",
    "    # Genera la matrice delle valutazioni (utenti-film)\n",
    "    user_movie_ratings_matrix = createMatrix()\n",
    "\n",
    "    # Lista per memorizzare le predizioni per ciascun utente nel gruppo\n",
    "    predictions_lists = []\n",
    "    for user_id in users:\n",
    "        print(\"Generating predictions for user \", user_id)\n",
    "        # Ottieni le predizioni per i film non valutati per l'utente corrente\n",
    "        predictions = getUnratedMoviePredictions(user_id, unrated_movies, user_movie_ratings_matrix, )\n",
    "        # Aggiungi le predizioni per l'utente corrente alla lista generale\n",
    "        predictions_lists.append(predictions)\n",
    "\n",
    "    # Lista per memorizzare le predizioni medie e i disaccordi\n",
    "    average_disagreements = []\n",
    "\n",
    "    print(\"Calculating mean predictions and disagreements...\")\n",
    "    # Per ogni posizione (indice) nelle tuple\n",
    "    for i in range(len(predictions_lists[0])):\n",
    "        # Calcola la media dei secondi valori nelle tuple alla stessa posizione\n",
    "        average_value = sum(prediction[i][1] for prediction in predictions_lists) / len(predictions_lists)\n",
    "\n",
    "        # Conta il numero di disaccordi\n",
    "        disagreement_count = sum(1 for prediction in predictions_lists if prediction[i][1] < average_value - 1)\n",
    "\n",
    "        # Aggiungi la tupla con il film e la media calcolata\n",
    "        average_disagreements.append((predictions_lists[0][i][0], average_value, disagreement_count))\n",
    "\n",
    "    # Seleziona solo i film senza disaccordi (disaccordi = 0)\n",
    "    no_disagreement_predictions = [prediction for prediction in average_disagreements if prediction[2] == 0]\n",
    "\n",
    "    # Ordina la lista dei film senza disaccordi in base alla media\n",
    "    sorted_predictions = sorted(no_disagreement_predictions, key=lambda x: x[1], reverse=True)\n",
    "\n",
    "    # Prendi solo i primi k elementi dalla lista ordinata\n",
    "    top_k_predictions = sorted_predictions[:k]\n",
    "\n",
    "    return top_k_predictions\n"
   ]
  },
  {
   "cell_type": "code",
   "execution_count": 48,
   "metadata": {},
   "outputs": [
    {
     "name": "stdout",
     "output_type": "stream",
     "text": [
      "Generating predictions for user  414\n",
      "Generating predictions for user  474\n",
      "Generating predictions for user  599\n",
      "Calculating mean predictions and disagreements...\n",
      "[(5105, 6.568890099610708, 0), (6967, 6.568890099610708, 0), (7114, 6.568890099610708, 0), (7742, 6.568890099610708, 0), (3604, 6.117294107066439, 0), (97024, 5.922892562664894, 0), (138186, 5.905043481723262, 0), (107013, 5.905043481723262, 0), (173307, 5.905043481723262, 0), (86068, 5.905043481723262, 0)]\n"
     ]
    }
   ],
   "source": [
    "users = [414,474,599]\n",
    "print(disagreementsTopKGroupPrediction(users,10))"
   ]
  }
 ],
 "metadata": {
  "kernelspec": {
   "display_name": "Python 3",
   "language": "python",
   "name": "python3"
  },
  "language_info": {
   "codemirror_mode": {
    "name": "ipython",
    "version": 3
   },
   "file_extension": ".py",
   "mimetype": "text/x-python",
   "name": "python",
   "nbconvert_exporter": "python",
   "pygments_lexer": "ipython3",
   "version": "3.11.4"
  }
 },
 "nbformat": 4,
 "nbformat_minor": 2
}
